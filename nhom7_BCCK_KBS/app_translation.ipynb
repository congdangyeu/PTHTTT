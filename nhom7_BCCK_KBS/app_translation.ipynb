{
 "cells": [
  {
   "cell_type": "code",
   "execution_count": 2,
   "metadata": {},
   "outputs": [
    {
     "ename": "NameError",
     "evalue": "name 'train_size' is not defined",
     "output_type": "error",
     "traceback": [
      "\u001b[1;31m---------------------------------------------------------------------------\u001b[0m",
      "\u001b[1;31mNameError\u001b[0m                                 Traceback (most recent call last)",
      "Cell \u001b[1;32mIn [2], line 22\u001b[0m\n\u001b[0;32m     19\u001b[0m                 bigrams[(token_A, token_B)] \u001b[39m+\u001b[39m\u001b[39m=\u001b[39m \u001b[39m1\u001b[39m\n\u001b[0;32m     20\u001b[0m             token_A \u001b[39m=\u001b[39m token_B\n\u001b[1;32m---> 22\u001b[0m model(train_size, \u001b[39m'\u001b[39m\u001b[39mDataEN\u001b[39m\u001b[39m'\u001b[39m)\n",
      "\u001b[1;31mNameError\u001b[0m: name 'train_size' is not defined"
     ]
    }
   ],
   "source": [
    "unigrams = {}\n",
    "bigrams = {}\n",
    "# training on the train_set\n",
    "def model(dataset_size, dataset_name):\n",
    "    global bigrams\n",
    "    global unigrams\n",
    "    for index in range(dataset_size):\n",
    "        token_A = ''\n",
    "        for en_token in tokenized_stores[dataset_name][index]:\n",
    "            if en_token not in unigrams:\n",
    "                unigrams[en_token] = 1\n",
    "            else:\n",
    "                unigrams[en_token] += 1\n",
    "            \n",
    "            token_B = en_token\n",
    "            if (token_A, token_B) not in bigrams:\n",
    "                bigrams[(token_A, token_B)] = 1\n",
    "            else:\n",
    "                bigrams[(token_A, token_B)] += 1\n",
    "            token_A = token_B\n",
    "\n",
    "model(train_size, 'DataEN')"
   ]
  }
 ],
 "metadata": {
  "kernelspec": {
   "display_name": "Python 3.10.2 64-bit",
   "language": "python",
   "name": "python3"
  },
  "language_info": {
   "codemirror_mode": {
    "name": "ipython",
    "version": 3
   },
   "file_extension": ".py",
   "mimetype": "text/x-python",
   "name": "python",
   "nbconvert_exporter": "python",
   "pygments_lexer": "ipython3",
   "version": "3.10.2"
  },
  "orig_nbformat": 4,
  "vscode": {
   "interpreter": {
    "hash": "08f4aa0acb1cdf7c53933ec40f4e697ee4f2d65f4b23006658cca62a0312aadf"
   }
  }
 },
 "nbformat": 4,
 "nbformat_minor": 2
}
